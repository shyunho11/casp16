{
 "cells": [
  {
   "cell_type": "code",
   "execution_count": 1,
   "id": "d6291d62-c988-4973-9c78-ca2b378aa2b2",
   "metadata": {},
   "outputs": [
    {
     "name": "stderr",
     "output_type": "stream",
     "text": [
      "/home/iu/.conda/envs/study/lib/python3.8/site-packages/Bio/pairwise2.py:278: BiopythonDeprecationWarning: Bio.pairwise2 has been deprecated, and we intend to remove it in a future release of Biopython. As an alternative, please consider using Bio.Align.PairwiseAligner as a replacement, and contact the Biopython developers if you still need the Bio.pairwise2 module.\n",
      "  warnings.warn(\n"
     ]
    }
   ],
   "source": [
    "from Bio import pairwise2\n",
    "from Bio.Seq import Seq\n",
    "\n",
    "def color_highlight(text, color_code):\n",
    "    return f\"\\033[{color_code}m{text}\\033[0m\"\n",
    "\n",
    "def align2(seq1, seq2):\n",
    "    alignments = pairwise2.align.globalxx(Seq(seq1), Seq(seq2), one_alignment_only=True)\n",
    "    \n",
    "    # Taking the first alignment (if available)\n",
    "    if alignments:\n",
    "        a1, a2, score, begin, end = alignments[0]\n",
    "        \n",
    "        highlighted_a1 = []\n",
    "        highlighted_a2 = []\n",
    "        \n",
    "        a1_part = \"\"\n",
    "        a2_part = \"\"    \n",
    "        \n",
    "        for i in range(len(a1)):\n",
    "            if a1[i] == a2[i]:\n",
    "                # Yellow background color code '43'\n",
    "                a1_part += color_highlight(a1[i], \"43\")\n",
    "                a2_part += color_highlight(a2[i], \"43\")\n",
    "            else:\n",
    "                a1_part += a1[i]\n",
    "                a2_part += a2[i]\n",
    "                \n",
    "            if (i + 1) % 50 == 0:\n",
    "                highlighted_a1.append(a1_part)\n",
    "                highlighted_a2.append(a2_part)\n",
    "                a1_part = \"\"\n",
    "                a2_part = \"\"\n",
    "        \n",
    "        highlighted_a1.append(a1_part)\n",
    "        highlighted_a2.append(a2_part)\n",
    "        \n",
    "        for i in range(len(highlighted_a1)):\n",
    "            print(highlighted_a1[i])\n",
    "            print(highlighted_a2[i])\n",
    "            print()\n",
    "            \n",
    "    else:\n",
    "        print(\"No alignment found.\")"
   ]
  },
  {
   "cell_type": "code",
   "execution_count": 2,
   "id": "a8559cce-4478-461b-9791-8456318069d0",
   "metadata": {},
   "outputs": [
    {
     "name": "stdout",
     "output_type": "stream",
     "text": [
      "7nzm\n",
      "H1213\n",
      "\u001b[43m\n",
      "\u001b[0m-------------\u001b[43mC\u001b[0m\u001b[43mR\u001b[0m\u001b[43mF\u001b[0m\u001b[43mY\u001b[0m\u001b[43mQ\u001b[0m\u001b[43mH\u001b[0m\u001b[43mK\u001b[0m\u001b[43mF\u001b[0m\u001b[43mP\u001b[0m\u001b[43mE\u001b[0m\u001b[43mV\u001b[0m\u001b[43mE\u001b[0m\u001b[43mD\u001b[0m\u001b[43mV\u001b[0m\u001b[43mV\u001b[0m\u001b[43mM\u001b[0m\u001b[43mV\u001b[0m\u001b[43mN\u001b[0m\u001b[43mV\u001b[0m\u001b[43mR\u001b[0m\u001b[43mS\u001b[0m\u001b[43mI\u001b[0m\u001b[43mA\u001b[0m\u001b[43mE\u001b[0m\u001b[43mM\u001b[0m\u001b[43mG\u001b[0m\u001b[43mA\u001b[0m\u001b[43mY\u001b[0m\u001b[43mV\u001b[0m\u001b[43mS\u001b[0m\u001b[43mL\u001b[0m\u001b[43mL\u001b[0m\u001b[43mE\u001b[0m\u001b[43mY\u001b[0m\u001b[43mN\u001b[0m\u001b[43mN\u001b[0m\n",
      "\u001b[43m\n",
      "\u001b[0mMDYKDDDDKPGLS\u001b[43mC\u001b[0m\u001b[43mR\u001b[0m\u001b[43mF\u001b[0m\u001b[43mY\u001b[0m\u001b[43mQ\u001b[0m\u001b[43mH\u001b[0m\u001b[43mK\u001b[0m\u001b[43mF\u001b[0m\u001b[43mP\u001b[0m\u001b[43mE\u001b[0m\u001b[43mV\u001b[0m\u001b[43mE\u001b[0m\u001b[43mD\u001b[0m\u001b[43mV\u001b[0m\u001b[43mV\u001b[0m\u001b[43mM\u001b[0m\u001b[43mV\u001b[0m\u001b[43mN\u001b[0m\u001b[43mV\u001b[0m\u001b[43mR\u001b[0m\u001b[43mS\u001b[0m\u001b[43mI\u001b[0m\u001b[43mA\u001b[0m\u001b[43mE\u001b[0m\u001b[43mM\u001b[0m\u001b[43mG\u001b[0m\u001b[43mA\u001b[0m\u001b[43mY\u001b[0m\u001b[43mV\u001b[0m\u001b[43mS\u001b[0m\u001b[43mL\u001b[0m\u001b[43mL\u001b[0m\u001b[43mE\u001b[0m\u001b[43mY\u001b[0m\u001b[43mN\u001b[0m\u001b[43mN\u001b[0m\n",
      "\n",
      "\u001b[43mI\u001b[0m\u001b[43mE\u001b[0m\u001b[43mG\u001b[0m\u001b[43mM\u001b[0m\u001b[43mI\u001b[0m\u001b[43mL\u001b[0m\u001b[43mL\u001b[0m\u001b[43mS\u001b[0m\u001b[43mE\u001b[0m\u001b[43mL\u001b[0m?-\u001b[43mR\u001b[0m\u001b[43mR\u001b[0m\u001b[43mR\u001b[0m\u001b[43mI\u001b[0m\u001b[43mR\u001b[0m\u001b[43mS\u001b[0m\u001b[43mI\u001b[0m\u001b[43mN\u001b[0m\u001b[43mK\u001b[0m\u001b[43mL\u001b[0m\u001b[43mI\u001b[0m\u001b[43mR\u001b[0m\u001b[43mI\u001b[0m\u001b[43mG\u001b[0m\u001b[43mR\u001b[0m\u001b[43mN\u001b[0m\u001b[43mE\u001b[0m\u001b[43mC\u001b[0m\u001b[43mV\u001b[0m\u001b[43mV\u001b[0m\u001b[43mV\u001b[0m\u001b[43mI\u001b[0m\u001b[43mR\u001b[0m\u001b[43mV\u001b[0m\u001b[43mD\u001b[0m\u001b[43mK\u001b[0m\u001b[43mE\u001b[0m\u001b[43mK\u001b[0m\u001b[43mG\u001b[0m\u001b[43mY\u001b[0m\u001b[43mI\u001b[0m\u001b[43mD\u001b[0m\u001b[43mL\u001b[0m\u001b[43mS\u001b[0m\u001b[43mK\u001b[0m\u001b[43mR\u001b[0m\u001b[43mR\u001b[0m\u001b[43mV\u001b[0m\n",
      "\u001b[43mI\u001b[0m\u001b[43mE\u001b[0m\u001b[43mG\u001b[0m\u001b[43mM\u001b[0m\u001b[43mI\u001b[0m\u001b[43mL\u001b[0m\u001b[43mL\u001b[0m\u001b[43mS\u001b[0m\u001b[43mE\u001b[0m\u001b[43mL\u001b[0m-S\u001b[43mR\u001b[0m\u001b[43mR\u001b[0m\u001b[43mR\u001b[0m\u001b[43mI\u001b[0m\u001b[43mR\u001b[0m\u001b[43mS\u001b[0m\u001b[43mI\u001b[0m\u001b[43mN\u001b[0m\u001b[43mK\u001b[0m\u001b[43mL\u001b[0m\u001b[43mI\u001b[0m\u001b[43mR\u001b[0m\u001b[43mI\u001b[0m\u001b[43mG\u001b[0m\u001b[43mR\u001b[0m\u001b[43mN\u001b[0m\u001b[43mE\u001b[0m\u001b[43mC\u001b[0m\u001b[43mV\u001b[0m\u001b[43mV\u001b[0m\u001b[43mV\u001b[0m\u001b[43mI\u001b[0m\u001b[43mR\u001b[0m\u001b[43mV\u001b[0m\u001b[43mD\u001b[0m\u001b[43mK\u001b[0m\u001b[43mE\u001b[0m\u001b[43mK\u001b[0m\u001b[43mG\u001b[0m\u001b[43mY\u001b[0m\u001b[43mI\u001b[0m\u001b[43mD\u001b[0m\u001b[43mL\u001b[0m\u001b[43mS\u001b[0m\u001b[43mK\u001b[0m\u001b[43mR\u001b[0m\u001b[43mR\u001b[0m\u001b[43mV\u001b[0m\n",
      "\n",
      "\u001b[43mS\u001b[0m\u001b[43mP\u001b[0m\u001b[43mE\u001b[0m\u001b[43mE\u001b[0m\u001b[43mA\u001b[0m\u001b[43mI\u001b[0m\u001b[43mK\u001b[0m\u001b[43mC\u001b[0m\u001b[43mE\u001b[0m\u001b[43mD\u001b[0m\u001b[43mK\u001b[0m\u001b[43mF\u001b[0m\u001b[43mT\u001b[0m\u001b[43mK\u001b[0m\u001b[43mS\u001b[0m\u001b[43mK\u001b[0m\u001b[43mT\u001b[0m\u001b[43mV\u001b[0m\u001b[43mY\u001b[0m\u001b[43mS\u001b[0m\u001b[43mI\u001b[0m\u001b[43mL\u001b[0m\u001b[43mR\u001b[0m\u001b[43mH\u001b[0m\u001b[43mV\u001b[0m\u001b[43mA\u001b[0m\u001b[43mE\u001b[0m\u001b[43mV\u001b[0m\u001b[43mL\u001b[0m\u001b[43mE\u001b[0m\u001b[43mY\u001b[0m\u001b[43mT\u001b[0m\u001b[43mK\u001b[0m\u001b[43mD\u001b[0m\u001b[43mE\u001b[0m\u001b[43mQ\u001b[0m\u001b[43mL\u001b[0m\u001b[43mE\u001b[0m\u001b[43mS\u001b[0m\u001b[43mL\u001b[0m\u001b[43mF\u001b[0m\u001b[43mQ\u001b[0m\u001b[43mR\u001b[0m\u001b[43mT\u001b[0m\u001b[43mA\u001b[0m\u001b[43mW\u001b[0m\u001b[43mV\u001b[0m\u001b[43mF\u001b[0m\u001b[43mD\u001b[0m\u001b[43mD\u001b[0m\n",
      "\u001b[43mS\u001b[0m\u001b[43mP\u001b[0m\u001b[43mE\u001b[0m\u001b[43mE\u001b[0m\u001b[43mA\u001b[0m\u001b[43mI\u001b[0m\u001b[43mK\u001b[0m\u001b[43mC\u001b[0m\u001b[43mE\u001b[0m\u001b[43mD\u001b[0m\u001b[43mK\u001b[0m\u001b[43mF\u001b[0m\u001b[43mT\u001b[0m\u001b[43mK\u001b[0m\u001b[43mS\u001b[0m\u001b[43mK\u001b[0m\u001b[43mT\u001b[0m\u001b[43mV\u001b[0m\u001b[43mY\u001b[0m\u001b[43mS\u001b[0m\u001b[43mI\u001b[0m\u001b[43mL\u001b[0m\u001b[43mR\u001b[0m\u001b[43mH\u001b[0m\u001b[43mV\u001b[0m\u001b[43mA\u001b[0m\u001b[43mE\u001b[0m\u001b[43mV\u001b[0m\u001b[43mL\u001b[0m\u001b[43mE\u001b[0m\u001b[43mY\u001b[0m\u001b[43mT\u001b[0m\u001b[43mK\u001b[0m\u001b[43mD\u001b[0m\u001b[43mE\u001b[0m\u001b[43mQ\u001b[0m\u001b[43mL\u001b[0m\u001b[43mE\u001b[0m\u001b[43mS\u001b[0m\u001b[43mL\u001b[0m\u001b[43mF\u001b[0m\u001b[43mQ\u001b[0m\u001b[43mR\u001b[0m\u001b[43mT\u001b[0m\u001b[43mA\u001b[0m\u001b[43mW\u001b[0m\u001b[43mV\u001b[0m\u001b[43mF\u001b[0m\u001b[43mD\u001b[0m\u001b[43mD\u001b[0m\n",
      "\n",
      "\u001b[43mK\u001b[0m\u001b[43mY\u001b[0m\u001b[43mK\u001b[0m\u001b[43mR\u001b[0m\u001b[43mP\u001b[0m\u001b[43mG\u001b[0m\u001b[43mY\u001b[0m\u001b[43mG\u001b[0m\u001b[43mA\u001b[0m\u001b[43mY\u001b[0m\u001b[43mD\u001b[0m\u001b[43mA\u001b[0m\u001b[43mF\u001b[0m\u001b[43mK\u001b[0m\u001b[43mH\u001b[0m\u001b[43mA\u001b[0m\u001b[43mV\u001b[0m\u001b[43mS\u001b[0m\u001b[43mD\u001b[0m\u001b[43mP\u001b[0m\u001b[43mS\u001b[0m\u001b[43mI\u001b[0m\u001b[43mL\u001b[0m\u001b[43mD\u001b[0m\u001b[43mS\u001b[0m\u001b[43mL\u001b[0m\u001b[43mD\u001b[0m\u001b[43mL\u001b[0m\u001b[43mN\u001b[0m\u001b[43mE\u001b[0m\u001b[43mD\u001b[0m\u001b[43mE\u001b[0m\u001b[43mR\u001b[0m\u001b[43mE\u001b[0m\u001b[43mV\u001b[0m\u001b[43mL\u001b[0m\u001b[43mI\u001b[0m\u001b[43mN\u001b[0m\u001b[43mN\u001b[0m\u001b[43mI\u001b[0m\u001b[43mN\u001b[0m\u001b[43mR\u001b[0m\u001b[43mR\u001b[0m-------\n",
      "\u001b[43mK\u001b[0m\u001b[43mY\u001b[0m\u001b[43mK\u001b[0m\u001b[43mR\u001b[0m\u001b[43mP\u001b[0m\u001b[43mG\u001b[0m\u001b[43mY\u001b[0m\u001b[43mG\u001b[0m\u001b[43mA\u001b[0m\u001b[43mY\u001b[0m\u001b[43mD\u001b[0m\u001b[43mA\u001b[0m\u001b[43mF\u001b[0m\u001b[43mK\u001b[0m\u001b[43mH\u001b[0m\u001b[43mA\u001b[0m\u001b[43mV\u001b[0m\u001b[43mS\u001b[0m\u001b[43mD\u001b[0m\u001b[43mP\u001b[0m\u001b[43mS\u001b[0m\u001b[43mI\u001b[0m\u001b[43mL\u001b[0m\u001b[43mD\u001b[0m\u001b[43mS\u001b[0m\u001b[43mL\u001b[0m\u001b[43mD\u001b[0m\u001b[43mL\u001b[0m\u001b[43mN\u001b[0m\u001b[43mE\u001b[0m\u001b[43mD\u001b[0m\u001b[43mE\u001b[0m\u001b[43mR\u001b[0m\u001b[43mE\u001b[0m\u001b[43mV\u001b[0m\u001b[43mL\u001b[0m\u001b[43mI\u001b[0m\u001b[43mN\u001b[0m\u001b[43mN\u001b[0m\u001b[43mI\u001b[0m\u001b[43mN\u001b[0m\u001b[43mR\u001b[0m\u001b[43mR\u001b[0mLTPQAVK\n",
      "\n",
      "--------------------------------------------------\n",
      "IRADIEVACYGYEGIDAVKEALRAGLNCSTENMPIKINLIAPPRYVMTTT\n",
      "\n",
      "--------------------------------------------------\n",
      "TLERTEGLSVLSQAMAVIKEKIEEKRGVFNVQMEPKVVTDTDETELARQM\n",
      "\n",
      "-------------------------\u001b[43m\n",
      "\u001b[0m\n",
      "ERLERENAEVDGDDDAEEMEAKAED\u001b[43m\n",
      "\u001b[0m\n",
      "\n"
     ]
    }
   ],
   "source": [
    "target = \"\"\"\n",
    "CRFYQHKFPEVEDVVMVNVRSIAEMGAYVSLLEYNNIEGMILLSEL?RRRIRSINKLIRIGRNECVVVIRVDKEKGYIDLSKRRVSPEEAIKCEDKFTKSKTVYSILRHVAEVLEYTKDEQLESLFQRTAWVFDDKYKRPGYGAYDAFKHAVSDPSILDSLDLNEDEREVLINNINRR\n",
    "\"\"\"\n",
    "query = \"\"\"\n",
    "MDYKDDDDKPGLSCRFYQHKFPEVEDVVMVNVRSIAEMGAYVSLLEYNNIEGMILLSELSRRRIRSINKLIRIGRNECVVVIRVDKEKGYIDLSKRRVSPEEAIKCEDKFTKSKTVYSILRHVAEVLEYTKDEQLESLFQRTAWVFDDKYKRPGYGAYDAFKHAVSDPSILDSLDLNEDEREVLINNINRRLTPQAVKIRADIEVACYGYEGIDAVKEALRAGLNCSTENMPIKINLIAPPRYVMTTTTLERTEGLSVLSQAMAVIKEKIEEKRGVFNVQMEPKVVTDTDETELARQMERLERENAEVDGDDDAEEMEAKAED\n",
    "\"\"\"\n",
    "\n",
    "print('7nzm\\nH1213')\n",
    "a = align2(target, query)"
   ]
  }
 ],
 "metadata": {
  "kernelspec": {
   "display_name": "study",
   "language": "python",
   "name": "study"
  },
  "language_info": {
   "codemirror_mode": {
    "name": "ipython",
    "version": 3
   },
   "file_extension": ".py",
   "mimetype": "text/x-python",
   "name": "python",
   "nbconvert_exporter": "python",
   "pygments_lexer": "ipython3",
   "version": "3.8.16"
  }
 },
 "nbformat": 4,
 "nbformat_minor": 5
}
